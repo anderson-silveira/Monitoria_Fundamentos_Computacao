{
  "nbformat": 4,
  "nbformat_minor": 0,
  "metadata": {
    "colab": {
      "name": "Monitoria.ipynb",
      "provenance": [],
      "collapsed_sections": [],
      "include_colab_link": true
    },
    "kernelspec": {
      "name": "python3",
      "display_name": "Python 3"
    },
    "language_info": {
      "name": "python"
    }
  },
  "cells": [
    {
      "cell_type": "markdown",
      "metadata": {
        "id": "view-in-github",
        "colab_type": "text"
      },
      "source": [
        "<a href=\"https://colab.research.google.com/github/anderson-silveira/Monitoria_Fundamentos_Computacao/blob/main/Monitoria.ipynb\" target=\"_parent\"><img src=\"https://colab.research.google.com/assets/colab-badge.svg\" alt=\"Open In Colab\"/></a>"
      ]
    },
    {
      "cell_type": "markdown",
      "metadata": {
        "id": "3mkfGYQFCjNc"
      },
      "source": [
        "Exemplos com String\n",
        "\n",
        "\n",
        "\n"
      ]
    },
    {
      "cell_type": "code",
      "metadata": {
        "id": "186UoFaY4q87"
      },
      "source": [
        "print(\"gato\"*5)\n",
        "#pog+5\n",
        "\"pog\"+\" \"+\"gambiarra\"\n",
        "#\"pog\"+5\n",
        "#\"pog\"*\"5\""
      ],
      "execution_count": null,
      "outputs": []
    },
    {
      "cell_type": "markdown",
      "metadata": {
        "id": "lH-8DSKpCnHq"
      },
      "source": [
        "Exemplos com entrada"
      ]
    },
    {
      "cell_type": "code",
      "metadata": {
        "id": "MV7j8pVS5iWD"
      },
      "source": [
        "print(\"Ola mundo\")\n",
        "\n",
        "print(\"Qual o seu nome?\")\n",
        "meuNome = input()\n",
        "print(\"Ola \"+meuNome+\".\")\n",
        "\n",
        "print(\"Qual sua idade?\")\n",
        "minhaIdade = input()\n",
        "print(\"Você tem \"+minhaIdade+\" anos\")\n",
        "print(\"Quero ir no niver de \"+str(int(minhaIdade)+1)+\" anos.\")"
      ],
      "execution_count": null,
      "outputs": []
    },
    {
      "cell_type": "markdown",
      "metadata": {
        "id": "hT_hn56UCpHZ"
      },
      "source": [
        "Casting de variáveis"
      ]
    },
    {
      "cell_type": "code",
      "metadata": {
        "id": "IMBOD5czIy5V"
      },
      "source": [
        "int(\"35\")\n",
        "str(35)\n",
        "int(14.5)\n",
        "#int(\"3.14\")\n",
        "float(\"3.14\")\n",
        "print(\"Digite um número\")\n",
        "spam=input() #Digitar numero\n",
        "spam = float(spam)\n",
        "spam\n",
        "spam/5\n"
      ],
      "execution_count": null,
      "outputs": []
    },
    {
      "cell_type": "markdown",
      "metadata": {
        "id": "GsJ8d5VRDZi5"
      },
      "source": [
        "Varáveis Booleanas"
      ]
    },
    {
      "cell_type": "code",
      "metadata": {
        "id": "D70SJ7inFrwZ"
      },
      "source": [
        "True"
      ],
      "execution_count": null,
      "outputs": []
    },
    {
      "cell_type": "code",
      "metadata": {
        "id": "MNByuP0DHMz7"
      },
      "source": [
        "False"
      ],
      "execution_count": null,
      "outputs": []
    },
    {
      "cell_type": "code",
      "metadata": {
        "id": "3OTvh13sHPph"
      },
      "source": [
        "not False"
      ],
      "execution_count": null,
      "outputs": []
    },
    {
      "cell_type": "code",
      "metadata": {
        "id": "nGhVBIfxHQ85"
      },
      "source": [
        "True and True "
      ],
      "execution_count": null,
      "outputs": []
    },
    {
      "cell_type": "code",
      "metadata": {
        "id": "2MOlfb5IHYXx"
      },
      "source": [
        "True or False"
      ],
      "execution_count": null,
      "outputs": []
    },
    {
      "cell_type": "code",
      "metadata": {
        "id": "riXtlOGGHUKc"
      },
      "source": [
        " #True"
      ],
      "execution_count": null,
      "outputs": []
    },
    {
      "cell_type": "code",
      "metadata": {
        "id": "CVDleHgKHVwp"
      },
      "source": [
        "3!=3"
      ],
      "execution_count": null,
      "outputs": []
    },
    {
      "cell_type": "markdown",
      "metadata": {
        "id": "G4mDvDwm3JAr"
      },
      "source": [
        "Estruturas de controle"
      ]
    },
    {
      "cell_type": "code",
      "metadata": {
        "id": "D141Xg9V3MV7"
      },
      "source": [
        "nome=\"pog\"\n",
        "senha=\"senhadificil\"\n",
        "\n",
        "if nome==\"pog\":\n",
        "  print(\"Olá, Pog!\")\n",
        "  if senha==\"senhadificil\":\n",
        "    print(\"Acesso garantido\")\n",
        "  else:\n",
        "    print(\"Acesso negado\")"
      ],
      "execution_count": null,
      "outputs": []
    },
    {
      "cell_type": "code",
      "metadata": {
        "id": "VchggKMO6bAW"
      },
      "source": [
        "nome=\"pog\"\n",
        "senha=\"senhadificil\"\n",
        "\n",
        "print(\"Digite a senha:\")\n",
        "password=input()\n",
        "\n",
        "if nome==\"pog\":\n",
        "  print(\"Olá, Pog!\")\n",
        "  if senha==password:\n",
        "    print(\"Acesso garantido\")\n",
        "  else:\n",
        "    print(\"Acesso negado\")"
      ],
      "execution_count": null,
      "outputs": []
    },
    {
      "cell_type": "code",
      "metadata": {
        "id": "F_haOGQl39QK"
      },
      "source": [
        "nome=\"Anderson\"\n",
        "idade=5 #10,50,500\n",
        "\n",
        "if nome==\"Anderson\":\n",
        "  print(\"Ola Anderson\")\n",
        "\n",
        "if idade<12:\n",
        "  print(\"Você é uma criança\")\n",
        "elif idade>2000:\n",
        "  print(\"Você é imortal?\")\n",
        "elif idade>100:\n",
        "  print(\"Você é um vovô\")\n",
        "  "
      ],
      "execution_count": null,
      "outputs": []
    },
    {
      "cell_type": "code",
      "metadata": {
        "id": "pL6ppwMP5rh0"
      },
      "source": [
        "nome=\"Anderson\"\n",
        "idade=5000\n",
        "\n",
        "if nome==\"Anderson\":\n",
        "  print(\"Ola Anderson\")\n",
        "\n",
        "if idade<12:\n",
        "  print(\"Você é uma criança\")\n",
        "elif idade>100:\n",
        "  print(\"Você é um vovô\")\n",
        "elif idade>2000:\n",
        "  print(\"Você é imortal?\")\n",
        "  "
      ],
      "execution_count": null,
      "outputs": []
    },
    {
      "cell_type": "markdown",
      "metadata": {
        "id": "AD3UDsMmQhs1"
      },
      "source": [
        "Estruturas de repetição"
      ]
    },
    {
      "cell_type": "code",
      "metadata": {
        "id": "4rPP8jGfIYbl"
      },
      "source": [
        "nome=\"\"\n",
        "\n",
        "while nome!=\"seu nome\":\n",
        "  print(\"Digite seu nome\")\n",
        "  nome=input()\n",
        "\n",
        "print(\"Tchau\")"
      ],
      "execution_count": null,
      "outputs": []
    },
    {
      "cell_type": "code",
      "metadata": {
        "id": "ws45joaDJDkz"
      },
      "source": [
        "nome=\"\"\n",
        "\n",
        "while True:\n",
        "  print(\"Digite seu nome\")\n",
        "  nome=input()\n",
        "  if nome==\"seu nome\":\n",
        "    break\n",
        "\n",
        "print(\"Tchau\")"
      ],
      "execution_count": null,
      "outputs": []
    },
    {
      "cell_type": "code",
      "metadata": {
        "id": "ZUYxLUaRJ2PM"
      },
      "source": [
        "i=0\n",
        "while(i<5):\n",
        "  print(i)\n",
        "  i+=1"
      ],
      "execution_count": null,
      "outputs": []
    },
    {
      "cell_type": "code",
      "metadata": {
        "id": "ojcVwfp5JPs2"
      },
      "source": [
        "for i in range(5):\n",
        "  print(i)"
      ],
      "execution_count": null,
      "outputs": []
    },
    {
      "cell_type": "code",
      "metadata": {
        "id": "mZZdf3QS5Frd"
      },
      "source": [
        "for i in range(0,11,2):\n",
        "  print(i)\n",
        "\n",
        "# for i in range(10,-1,-2):\n",
        "#   print(i)"
      ],
      "execution_count": null,
      "outputs": []
    },
    {
      "cell_type": "code",
      "metadata": {
        "id": "W9gJu02RRsjv"
      },
      "source": [
        "for i in range(10):\n",
        "  if i%2==1:\n",
        "    continue\n",
        "  print(i)"
      ],
      "execution_count": null,
      "outputs": []
    },
    {
      "cell_type": "code",
      "metadata": {
        "id": "W7DFj8uVJV1H"
      },
      "source": [
        "lista = [\"computação\",\"civil\",\"mecanica\",\"ambiental\",\"aeroespacial\"]\n",
        "\n",
        "for curso in lista:\n",
        "  print(\"Temos curso na area de \"+curso)"
      ],
      "execution_count": null,
      "outputs": []
    },
    {
      "cell_type": "code",
      "metadata": {
        "id": "Vk4qKy8COU7g"
      },
      "source": [
        "lista=[]\n",
        "dicionario={}\n",
        "\n",
        "quantidade_alunos=2\n",
        "\n",
        "media=0\n",
        "\n",
        "# for i in range(quantidade_alunos):\n",
        "#   nome = input()\n",
        "#   nota1=input()\n",
        "#   nota2=input()\n",
        "\n",
        "#   aluno=(nome,nota1,nota2)\n",
        "\n",
        "\n",
        "#   lista.append(aluno)\n",
        "\n",
        "\n",
        "\n",
        "# for aluno in lista:\n",
        "#   print(aluno)\n",
        "#   media += float(aluno[1])\n",
        "#   media += float(aluno[2])\n",
        "#   # print(aluno[0] + aluno[1] + aluno[2] + (aluno[1]+aluno[2])/2 )\n",
        "\n",
        "# media /=(quantidade_alunos*2)\n",
        "\n",
        "# print(media)\n",
        "\n",
        "dicionario[\"joao\"]=(8,9)\n",
        "\n",
        "dicionario[\"joao\"]\n",
        "\n",
        "for i in range(quantidade_alunos):\n",
        "  nome = input()\n",
        "  nota1=input()\n",
        "  nota2=input()\n",
        "\n",
        "  dicionario[nome]=(nota1,nota2)\n",
        "\n",
        "for key,value in dicionario.items():\n",
        "  print(key+\" \"+str ( float(value[0])/2 + float(value[1])/2 ))\n",
        "  media += float(value[0])\n",
        "  media += float(value[1])\n",
        "\n",
        "media /=(quantidade_alunos*2)\n",
        "\n",
        "print(media)"
      ],
      "execution_count": null,
      "outputs": []
    },
    {
      "cell_type": "code",
      "source": [
        "soma=0\n",
        "\n",
        "for i in range(5):\n",
        "  num=int(input())\n",
        "\n",
        "  # soma = soma + num if num*num<220 else 0\n",
        "  \n",
        "  if num*num<220:\n",
        "    soma+=num\n",
        "\n",
        "print(soma)\n",
        "\n",
        "\n",
        "# a != b \n",
        "\n",
        "# not \n",
        "# or\n",
        "# and"
      ],
      "metadata": {
        "id": "c4IjBEjoLPEU"
      },
      "execution_count": null,
      "outputs": []
    },
    {
      "cell_type": "code",
      "source": [
        "soma=0\n",
        "x=0\n",
        "while(x<=9):\n",
        " numero=int(input('digite os numeros'))\n",
        " if(numero**2 < 200):\n",
        "   soma=numero+soma\n",
        " print(soma)\n",
        " x=x+1"
      ],
      "metadata": {
        "id": "O1hYzuqfMnMa"
      },
      "execution_count": null,
      "outputs": []
    },
    {
      "cell_type": "code",
      "source": [
        "codigos={}\n",
        "\n",
        "codigos[1]=0.5\n",
        "codigos[2]=2.5\n",
        "codigos[3]=4.0\n",
        "codigos[4]=7.5\n",
        "codigos[5]=9.5\n",
        "\n",
        "# print(codigos[6])\n",
        "\n",
        "codigo=-1\n",
        "quantidade=0\n",
        "total=0\n",
        "\n",
        "while(codigo!=0):\n",
        "  codigo=int(input())\n",
        "  quantidade=int(input())\n",
        "\n",
        "  if codigo in codigos.values():\n",
        "    total+=quantidade*codigos[codigo]\n",
        "\n",
        "print(total)\n",
        "\n",
        "\n",
        "\n",
        "\n",
        "\n",
        "\n"
      ],
      "metadata": {
        "id": "sn7J0r3yPu3M"
      },
      "execution_count": null,
      "outputs": []
    },
    {
      "cell_type": "code",
      "source": [
        "nome=\"jon\"\n",
        "nota=10\n",
        "\n",
        "# texto = \"Boa noite {nome} + {nota}.\"\n",
        "\n",
        "\n",
        "\n",
        "# print(texto.format(nome=\"jon\",nota=2))\n",
        "# print(\"Boa noite \"+nome)\n",
        "\n",
        "print(f'Boa noite {nome} nota: {nota}')\n",
        "\n",
        "for letra in nome:\n",
        "  print(letra)\n",
        "\n",
        "for i in range(len(nome)):\n",
        "  print(nome[i])\n"
      ],
      "metadata": {
        "id": "6WU3p1LHSvf8"
      },
      "execution_count": null,
      "outputs": []
    }
  ]
}
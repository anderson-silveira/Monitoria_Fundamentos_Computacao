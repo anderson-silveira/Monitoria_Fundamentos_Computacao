{
  "nbformat": 4,
  "nbformat_minor": 0,
  "metadata": {
    "colab": {
      "name": "Monitoria.ipynb",
      "provenance": [],
      "collapsed_sections": [],
      "include_colab_link": true
    },
    "kernelspec": {
      "name": "python3",
      "display_name": "Python 3"
    },
    "language_info": {
      "name": "python"
    }
  },
  "cells": [
    {
      "cell_type": "markdown",
      "metadata": {
        "id": "view-in-github",
        "colab_type": "text"
      },
      "source": [
        "<a href=\"https://colab.research.google.com/github/anderson-silveira/Monitoria_Fundamentos_Computacao/blob/main/Monitoria.ipynb\" target=\"_parent\"><img src=\"https://colab.research.google.com/assets/colab-badge.svg\" alt=\"Open In Colab\"/></a>"
      ]
    },
    {
      "cell_type": "markdown",
      "metadata": {
        "id": "3mkfGYQFCjNc"
      },
      "source": [
        "Exemplos com String\n",
        "\n",
        "\n",
        "\n"
      ]
    },
    {
      "cell_type": "code",
      "metadata": {
        "id": "186UoFaY4q87"
      },
      "source": [
        "print(\"gato\"*5)\n",
        "#pog+5\n",
        "\"pog\"+\" \"+\"gambiarra\"\n",
        "#\"pog\"+5\n",
        "#\"pog\"*\"5\""
      ],
      "execution_count": null,
      "outputs": []
    },
    {
      "cell_type": "markdown",
      "metadata": {
        "id": "lH-8DSKpCnHq"
      },
      "source": [
        "Exemplos com entrada"
      ]
    },
    {
      "cell_type": "code",
      "metadata": {
        "id": "MV7j8pVS5iWD"
      },
      "source": [
        "print(\"Ola mundo\")\n",
        "\n",
        "print(\"Qual o seu nome?\")\n",
        "meuNome = input()\n",
        "print(\"Ola \"+meuNome+\".\")\n",
        "\n",
        "print(\"Qual sua idade?\")\n",
        "minhaIdade = input()\n",
        "print(\"Você tem \"+minhaIdade+\" anos\")\n",
        "print(\"Quero ir no niver de \"+str(int(minhaIdade)+1)+\" anos.\")"
      ],
      "execution_count": null,
      "outputs": []
    },
    {
      "cell_type": "markdown",
      "metadata": {
        "id": "hT_hn56UCpHZ"
      },
      "source": [
        "Casting de variáveis"
      ]
    },
    {
      "cell_type": "code",
      "metadata": {
        "id": "IMBOD5czIy5V"
      },
      "source": [
        "int(\"35\")\n",
        "str(35)\n",
        "int(14.5)\n",
        "#int(\"3.14\")\n",
        "float(\"3.14\")\n",
        "print(\"Digite um número\")\n",
        "spam=input() #Digitar numero\n",
        "spam = float(spam)\n",
        "spam\n",
        "spam/5\n"
      ],
      "execution_count": null,
      "outputs": []
    },
    {
      "cell_type": "markdown",
      "metadata": {
        "id": "GsJ8d5VRDZi5"
      },
      "source": [
        "Varáveis Booleanas"
      ]
    },
    {
      "cell_type": "code",
      "metadata": {
        "id": "D70SJ7inFrwZ"
      },
      "source": [
        "True"
      ],
      "execution_count": null,
      "outputs": []
    },
    {
      "cell_type": "code",
      "metadata": {
        "id": "MNByuP0DHMz7"
      },
      "source": [
        "False"
      ],
      "execution_count": null,
      "outputs": []
    },
    {
      "cell_type": "code",
      "metadata": {
        "id": "3OTvh13sHPph"
      },
      "source": [
        "not False"
      ],
      "execution_count": null,
      "outputs": []
    },
    {
      "cell_type": "code",
      "metadata": {
        "id": "nGhVBIfxHQ85"
      },
      "source": [
        "True and True "
      ],
      "execution_count": null,
      "outputs": []
    },
    {
      "cell_type": "code",
      "metadata": {
        "id": "2MOlfb5IHYXx"
      },
      "source": [
        "True or False"
      ],
      "execution_count": null,
      "outputs": []
    },
    {
      "cell_type": "code",
      "metadata": {
        "id": "riXtlOGGHUKc"
      },
      "source": [
        " #True"
      ],
      "execution_count": null,
      "outputs": []
    },
    {
      "cell_type": "code",
      "metadata": {
        "id": "CVDleHgKHVwp"
      },
      "source": [
        "3!=3"
      ],
      "execution_count": null,
      "outputs": []
    },
    {
      "cell_type": "markdown",
      "metadata": {
        "id": "G4mDvDwm3JAr"
      },
      "source": [
        "Estruturas de controle"
      ]
    },
    {
      "cell_type": "code",
      "metadata": {
        "id": "D141Xg9V3MV7"
      },
      "source": [
        "nome=\"pog\"\n",
        "senha=\"senhadificil\"\n",
        "\n",
        "if nome==\"pog\":\n",
        "  print(\"Olá, Pog!\")\n",
        "  if senha==\"senhadificil\":\n",
        "    print(\"Acesso garantido\")\n",
        "  else:\n",
        "    print(\"Acesso negado\")"
      ],
      "execution_count": null,
      "outputs": []
    },
    {
      "cell_type": "code",
      "metadata": {
        "id": "VchggKMO6bAW"
      },
      "source": [
        "nome=\"pog\"\n",
        "senha=\"senhadificil\"\n",
        "\n",
        "print(\"Digite a senha:\")\n",
        "password=input()\n",
        "\n",
        "if nome==\"pog\":\n",
        "  print(\"Olá, Pog!\")\n",
        "  if senha==password:\n",
        "    print(\"Acesso garantido\")\n",
        "  else:\n",
        "    print(\"Acesso negado\")"
      ],
      "execution_count": null,
      "outputs": []
    },
    {
      "cell_type": "code",
      "metadata": {
        "id": "F_haOGQl39QK"
      },
      "source": [
        "nome=\"Anderson\"\n",
        "idade=5 #10,50,500\n",
        "\n",
        "if nome==\"Anderson\":\n",
        "  print(\"Ola Anderson\")\n",
        "\n",
        "if idade<12:\n",
        "  print(\"Você é uma criança\")\n",
        "elif idade>2000:\n",
        "  print(\"Você é imortal?\")\n",
        "elif idade>100:\n",
        "  print(\"Você é um vovô\")\n",
        "  "
      ],
      "execution_count": null,
      "outputs": []
    },
    {
      "cell_type": "code",
      "metadata": {
        "id": "pL6ppwMP5rh0"
      },
      "source": [
        "nome=\"Anderson\"\n",
        "idade=5000\n",
        "\n",
        "if nome==\"Anderson\":\n",
        "  print(\"Ola Anderson\")\n",
        "\n",
        "if idade<12:\n",
        "  print(\"Você é uma criança\")\n",
        "elif idade>100:\n",
        "  print(\"Você é um vovô\")\n",
        "elif idade>2000:\n",
        "  print(\"Você é imortal?\")\n",
        "  "
      ],
      "execution_count": null,
      "outputs": []
    },
    {
      "cell_type": "markdown",
      "metadata": {
        "id": "AD3UDsMmQhs1"
      },
      "source": [
        "Estruturas de repetição"
      ]
    },
    {
      "cell_type": "code",
      "metadata": {
        "id": "4rPP8jGfIYbl"
      },
      "source": [
        "nome=\"\"\n",
        "\n",
        "while nome!=\"seu nome\":\n",
        "  print(\"Digite seu nome\")\n",
        "  nome=input()\n",
        "\n",
        "print(\"Tchau\")"
      ],
      "execution_count": null,
      "outputs": []
    },
    {
      "cell_type": "code",
      "metadata": {
        "id": "ws45joaDJDkz"
      },
      "source": [
        "nome=\"\"\n",
        "\n",
        "while True:\n",
        "  print(\"Digite seu nome\")\n",
        "  nome=input()\n",
        "  if nome==\"seu nome\":\n",
        "    break\n",
        "\n",
        "print(\"Tchau\")"
      ],
      "execution_count": null,
      "outputs": []
    },
    {
      "cell_type": "code",
      "metadata": {
        "id": "ZUYxLUaRJ2PM"
      },
      "source": [
        "i=0\n",
        "while(i<5):\n",
        "  print(i)\n",
        "  i+=1"
      ],
      "execution_count": null,
      "outputs": []
    },
    {
      "cell_type": "code",
      "metadata": {
        "id": "ojcVwfp5JPs2"
      },
      "source": [
        "for i in range(5):\n",
        "  print(i)"
      ],
      "execution_count": null,
      "outputs": []
    },
    {
      "cell_type": "code",
      "metadata": {
        "id": "mZZdf3QS5Frd"
      },
      "source": [
        "for i in range(0,11,2):\n",
        "  print(i)\n",
        "\n",
        "# for i in range(10,-1,-2):\n",
        "#   print(i)"
      ],
      "execution_count": null,
      "outputs": []
    },
    {
      "cell_type": "code",
      "metadata": {
        "id": "W9gJu02RRsjv"
      },
      "source": [
        "for i in range(10):\n",
        "  if i%2==1:\n",
        "    continue\n",
        "  print(i)"
      ],
      "execution_count": null,
      "outputs": []
    },
    {
      "cell_type": "code",
      "metadata": {
        "id": "W7DFj8uVJV1H"
      },
      "source": [
        "lista = [\"computação\",\"civil\",\"mecanica\",\"ambiental\",\"aeroespacial\"]\n",
        "\n",
        "for curso in lista:\n",
        "  print(\"Temos curso na area de \"+curso)"
      ],
      "execution_count": null,
      "outputs": []
    },
    {
      "cell_type": "code",
      "metadata": {
        "id": "Vk4qKy8COU7g"
      },
      "source": [
        "lista=[]\n",
        "dicionario={}\n",
        "\n",
        "quantidade_alunos=2\n",
        "\n",
        "for i in range(quantidade_alunos):\n",
        "  nome = input()\n",
        "  nota1=input()\n",
        "  nota2=input()\n",
        "\n",
        "  aluno=(nome,nota1,nota2)\n",
        "\n",
        "  dicionario[nome]=(nota1,nota2)\n",
        "\n",
        "  lista.append(aluno)\n",
        "\n",
        "media=0\n",
        "\n",
        "# for aluno in lista:\n",
        "#   print(aluno)\n",
        "#   media += float(aluno[1])\n",
        "#   media += float(aluno[2])\n",
        "#   # print(aluno[0] + aluno[1] + aluno[2] + (aluno[1]+aluno[2])/2 )\n",
        "\n",
        "# media /=(quantidade_alunos*2)\n",
        "\n",
        "for key,value in dicionario.items():\n",
        "  print(key+\" \"+str ( float(value[0])/2 + float(value[1])/2 ))\n",
        "  # print(key)\n",
        "\n",
        "# print(media)"
      ],
      "execution_count": null,
      "outputs": []
    }
  ]
}
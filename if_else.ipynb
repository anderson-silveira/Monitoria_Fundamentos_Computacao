{
  "nbformat": 4,
  "nbformat_minor": 0,
  "metadata": {
    "colab": {
      "name": "if_else.ipynb",
      "provenance": [],
      "authorship_tag": "ABX9TyOuPM5cFi0eBN2mOqLnm8fY",
      "include_colab_link": true
    },
    "kernelspec": {
      "name": "python3",
      "display_name": "Python 3"
    },
    "language_info": {
      "name": "python"
    }
  },
  "cells": [
    {
      "cell_type": "markdown",
      "metadata": {
        "id": "view-in-github",
        "colab_type": "text"
      },
      "source": [
        "<a href=\"https://colab.research.google.com/github/anderson-silveira/Monitoria_Fundamentos_Computacao/blob/main/if_else.ipynb\" target=\"_parent\"><img src=\"https://colab.research.google.com/assets/colab-badge.svg\" alt=\"Open In Colab\"/></a>"
      ]
    },
    {
      "cell_type": "markdown",
      "metadata": {
        "id": "3mkfGYQFCjNc"
      },
      "source": [
        "Exemplos com String\n",
        "\n",
        "\n",
        "\n"
      ]
    },
    {
      "cell_type": "code",
      "metadata": {
        "id": "186UoFaY4q87",
        "colab": {
          "base_uri": "https://localhost:8080/",
          "height": 35
        },
        "outputId": "7014c554-6bdf-4089-820f-59667e36e7df"
      },
      "source": [
        "\"pog\"*5\n",
        "#pog+5\n",
        "\"pog\"+\" \"+\"gambiarra\"\n",
        "#\"pog\"+5\n",
        "#\"pog\"*\"5\""
      ],
      "execution_count": null,
      "outputs": [
        {
          "output_type": "execute_result",
          "data": {
            "application/vnd.google.colaboratory.intrinsic+json": {
              "type": "string"
            },
            "text/plain": [
              "'pog gambiarra'"
            ]
          },
          "metadata": {},
          "execution_count": 29
        }
      ]
    },
    {
      "cell_type": "markdown",
      "metadata": {
        "id": "lH-8DSKpCnHq"
      },
      "source": [
        "Exemplos com entrada"
      ]
    },
    {
      "cell_type": "code",
      "metadata": {
        "id": "MV7j8pVS5iWD",
        "colab": {
          "base_uri": "https://localhost:8080/"
        },
        "outputId": "63a3cf36-0af4-4ef5-adbe-e10d0bf923e8"
      },
      "source": [
        "print(\"Ola mundo\")\n",
        "\n",
        "print(\"Qual o seu nome?\")\n",
        "meuNome = input()\n",
        "print(\"Ola \"+meuNome+\".\")\n",
        "\n",
        "print(\"Qual sua idade?\")\n",
        "minhaIdade = input()\n",
        "print(\"Você tem \"+minhaIdade+\" anos\")\n",
        "print(\"Quero ir no niver de \"+str(int(minhaIdade)+1)+\" anos.\")"
      ],
      "execution_count": null,
      "outputs": [
        {
          "output_type": "stream",
          "name": "stdout",
          "text": [
            "Ola mundo\n",
            "Qual o seu nome?\n",
            "pog\n",
            "Ola pog.\n",
            "Qual sua idade?\n",
            "33\n",
            "Você tem 33 anos\n",
            "Quero ir no niver de 34 anos.\n"
          ]
        }
      ]
    },
    {
      "cell_type": "markdown",
      "metadata": {
        "id": "hT_hn56UCpHZ"
      },
      "source": [
        "Casting de variáveis"
      ]
    },
    {
      "cell_type": "code",
      "metadata": {
        "id": "ewDhw5d2-N_e",
        "colab": {
          "base_uri": "https://localhost:8080/"
        },
        "outputId": "abacda82-653d-4963-b46a-7fa72e7dac37"
      },
      "source": [
        "int(\"35\")\n",
        "str(35)\n",
        "int(14.5)\n",
        "#int(\"3.14\")\n",
        "float(\"3.14\")\n",
        "print(\"Digite um número\")\n",
        "spam=input() #Digitar numero\n",
        "spam = float(spam)\n",
        "spam\n",
        "spam/5\n"
      ],
      "execution_count": null,
      "outputs": [
        {
          "name": "stdout",
          "output_type": "stream",
          "text": [
            "36.5\n"
          ]
        },
        {
          "output_type": "execute_result",
          "data": {
            "text/plain": [
              "7.3"
            ]
          },
          "metadata": {},
          "execution_count": 31
        }
      ]
    },
    {
      "cell_type": "markdown",
      "metadata": {
        "id": "GsJ8d5VRDZi5"
      },
      "source": [
        "Varáveis Booleanas"
      ]
    },
    {
      "cell_type": "code",
      "metadata": {
        "colab": {
          "base_uri": "https://localhost:8080/"
        },
        "id": "D70SJ7inFrwZ",
        "outputId": "f0e9ca9f-ea73-4733-a129-321baf4c07be"
      },
      "source": [
        "True"
      ],
      "execution_count": null,
      "outputs": [
        {
          "output_type": "execute_result",
          "data": {
            "text/plain": [
              "True"
            ]
          },
          "metadata": {},
          "execution_count": 38
        }
      ]
    },
    {
      "cell_type": "code",
      "metadata": {
        "id": "MNByuP0DHMz7"
      },
      "source": [
        "False"
      ],
      "execution_count": null,
      "outputs": []
    },
    {
      "cell_type": "code",
      "metadata": {
        "colab": {
          "base_uri": "https://localhost:8080/"
        },
        "id": "3OTvh13sHPph",
        "outputId": "256023e5-1299-418c-9055-46c97a6668b7"
      },
      "source": [
        "not False"
      ],
      "execution_count": null,
      "outputs": [
        {
          "output_type": "execute_result",
          "data": {
            "text/plain": [
              "True"
            ]
          },
          "metadata": {},
          "execution_count": 39
        }
      ]
    },
    {
      "cell_type": "code",
      "metadata": {
        "colab": {
          "base_uri": "https://localhost:8080/"
        },
        "id": "nGhVBIfxHQ85",
        "outputId": "b019984a-ae0f-4790-c2a5-ed8eab396436"
      },
      "source": [
        "True and True "
      ],
      "execution_count": null,
      "outputs": [
        {
          "output_type": "execute_result",
          "data": {
            "text/plain": [
              "True"
            ]
          },
          "metadata": {},
          "execution_count": 40
        }
      ]
    },
    {
      "cell_type": "code",
      "metadata": {
        "colab": {
          "base_uri": "https://localhost:8080/"
        },
        "id": "2MOlfb5IHYXx",
        "outputId": "54519ca5-bce1-4442-e42a-4175a2d006f8"
      },
      "source": [
        "True or False"
      ],
      "execution_count": null,
      "outputs": [
        {
          "output_type": "execute_result",
          "data": {
            "text/plain": [
              "True"
            ]
          },
          "metadata": {},
          "execution_count": 41
        }
      ]
    },
    {
      "cell_type": "code",
      "metadata": {
        "colab": {
          "base_uri": "https://localhost:8080/"
        },
        "id": "riXtlOGGHUKc",
        "outputId": "18f64888-2bd0-4b5d-9d09-d6fe34aaf830"
      },
      "source": [
        " #True"
      ],
      "execution_count": null,
      "outputs": [
        {
          "output_type": "execute_result",
          "data": {
            "text/plain": [
              "True"
            ]
          },
          "metadata": {},
          "execution_count": 42
        }
      ]
    },
    {
      "cell_type": "code",
      "metadata": {
        "colab": {
          "base_uri": "https://localhost:8080/"
        },
        "id": "CVDleHgKHVwp",
        "outputId": "49f72912-62d3-4342-deec-11969e1a304b"
      },
      "source": [
        "3!=3"
      ],
      "execution_count": null,
      "outputs": [
        {
          "output_type": "execute_result",
          "data": {
            "text/plain": [
              "False"
            ]
          },
          "metadata": {},
          "execution_count": 43
        }
      ]
    }
  ]
}
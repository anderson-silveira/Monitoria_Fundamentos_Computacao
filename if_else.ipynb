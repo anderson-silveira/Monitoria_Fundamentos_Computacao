{
  "nbformat": 4,
  "nbformat_minor": 0,
  "metadata": {
    "colab": {
      "name": "if_else.ipynb",
      "provenance": [],
      "authorship_tag": "ABX9TyP+UwF3qsXKaWbaoSF4g4Ce",
      "include_colab_link": true
    },
    "kernelspec": {
      "name": "python3",
      "display_name": "Python 3"
    },
    "language_info": {
      "name": "python"
    }
  },
  "cells": [
    {
      "cell_type": "markdown",
      "metadata": {
        "id": "view-in-github",
        "colab_type": "text"
      },
      "source": [
        "<a href=\"https://colab.research.google.com/github/anderson-silveira/Monitoria_Fundamentos_Computacao/blob/main/if_else.ipynb\" target=\"_parent\"><img src=\"https://colab.research.google.com/assets/colab-badge.svg\" alt=\"Open In Colab\"/></a>"
      ]
    },
    {
      "cell_type": "code",
      "metadata": {
        "id": "186UoFaY4q87"
      },
      "source": [
        "\"pog\"*5\n",
        "#pog+5\n",
        "\"pog\"+\" \"+\"gambiarra\"\n",
        "#\"pog\"+5\n",
        "#\"pog\"*\"5\""
      ],
      "execution_count": null,
      "outputs": []
    },
    {
      "cell_type": "code",
      "metadata": {
        "id": "MV7j8pVS5iWD"
      },
      "source": [
        "print(\"Ola mundo\")\n",
        "\n",
        "print(\"Qual o seu nome?\")\n",
        "meuNome = input()\n",
        "print(\"Ola \"+meuNome+\".\")\n",
        "\n",
        "print(\"Qual sua idade?\")\n",
        "minhaIdade = input()\n",
        "print(\"Você tem \"+minhaIdade+\" anos\")\n",
        "print(\"Quero ir no niver de \"+str(int(minhaIdade)+1)+\" anos.\")"
      ],
      "execution_count": null,
      "outputs": []
    },
    {
      "cell_type": "code",
      "metadata": {
        "id": "ewDhw5d2-N_e"
      },
      "source": [
        "int(\"35\")\n",
        "str(35)\n",
        "int(14.5)\n",
        "#int(\"3.14\")\n",
        "float(\"3.14\")\n",
        "spam=input() #Digitar numero\n",
        "spam = float(spam)\n",
        "spam/5\n"
      ],
      "execution_count": null,
      "outputs": []
    }
  ]
}
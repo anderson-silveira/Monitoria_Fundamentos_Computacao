{
  "nbformat": 4,
  "nbformat_minor": 0,
  "metadata": {
    "colab": {
      "name": "Boring.ipynb",
      "provenance": [],
      "authorship_tag": "ABX9TyNweW72UVki/4TDllyTNdWR",
      "include_colab_link": true
    },
    "kernelspec": {
      "name": "python3",
      "display_name": "Python 3"
    },
    "language_info": {
      "name": "python"
    }
  },
  "cells": [
    {
      "cell_type": "markdown",
      "metadata": {
        "id": "view-in-github",
        "colab_type": "text"
      },
      "source": [
        "<a href=\"https://colab.research.google.com/github/anderson-silveira/Monitoria_Fundamentos_Computacao/blob/main/Boring.ipynb\" target=\"_parent\"><img src=\"https://colab.research.google.com/assets/colab-badge.svg\" alt=\"Open In Colab\"/></a>"
      ]
    },
    {
      "cell_type": "code",
      "execution_count": 4,
      "metadata": {
        "colab": {
          "base_uri": "https://localhost:8080/"
        },
        "id": "LcnCYamXo-Ob",
        "outputId": "248e7bf2-f27c-404a-f9b3-1d7290549380"
      },
      "outputs": [
        {
          "output_type": "stream",
          "name": "stdout",
          "text": [
            "apples, bananas, tofu and cats\n",
            "peixe and atum\n",
            "\n"
          ]
        }
      ],
      "source": [
        "def comma(lista):\n",
        "  if(len(lista)==0):\n",
        "    return \"\"\n",
        "  if(len(lista)==1):\n",
        "    return lista[0]\n",
        "\n",
        "  res = \"\"\n",
        "  for key,value in enumerate(lista):\n",
        "    if key==0:\n",
        "      res+=value\n",
        "      continue\n",
        "    if key==len(lista)-1:\n",
        "      res+= \" and \"+value\n",
        "    else:\n",
        "      res+= \", \"+value\n",
        "  return res\n",
        "\n",
        "\n",
        "spam = ['apples', 'bananas', 'tofu', 'cats']\n",
        "\n",
        "print(comma(spam))\n",
        "print(comma(['peixe','atum']))\n",
        "print(comma([]))\n"
      ]
    }
  ]
}